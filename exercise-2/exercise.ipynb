{
 "cells": [
  {
   "cell_type": "markdown",
   "metadata": {},
   "source": [
    "# Exercise-2\n",
    "Add the specified code for each code cell, running the cells _in order_."
   ]
  },
  {
   "cell_type": "markdown",
   "metadata": {},
   "source": [
    "Define a list **`names`** that includes your name and the names of at least 2 people close to you."
   ]
  },
  {
   "cell_type": "code",
   "execution_count": 2,
   "metadata": {},
   "outputs": [
    {
     "data": {
      "text/plain": [
       "['aj', 'fatima', 'clair']"
      ]
     },
     "execution_count": 2,
     "metadata": {},
     "output_type": "execute_result"
    }
   ],
   "source": [
    "names = [\"aj\", \"fatima\", \"clair\"]\n",
    "names"
   ]
  },
  {
   "cell_type": "markdown",
   "metadata": {},
   "source": [
    "Use a **list comprehension** to _map_ the `names` list to a `shouted` list that includes all the names, but in upper case. Print out the `shouted` list."
   ]
  },
  {
   "cell_type": "code",
   "execution_count": 9,
   "metadata": {},
   "outputs": [
    {
     "data": {
      "text/plain": [
       "['AJ', 'FATIMA', 'CLAIR']"
      ]
     },
     "execution_count": 9,
     "metadata": {},
     "output_type": "execute_result"
    }
   ],
   "source": [
    "shout = [name.upper() for name in names]\n",
    "shout"
   ]
  },
  {
   "cell_type": "markdown",
   "metadata": {},
   "source": [
    "Define a new list **`words`** that contains each of the words to the following [song lyric](https://www.youtube.com/watch?v=StTqXEQ2l-Y) (don't include the notes):\n",
    "```\n",
    "♫ everything is awesome everything is cool when you are part of a TEEEEAM ♫\n",
    "```\n",
    "\n",
    "_Hint:_ use the `split()` string method."
   ]
  },
  {
   "cell_type": "code",
   "execution_count": 11,
   "metadata": {},
   "outputs": [
    {
     "data": {
      "text/plain": [
       "['everything',\n",
       " 'is',\n",
       " 'awesome',\n",
       " 'everything',\n",
       " 'is',\n",
       " 'cool',\n",
       " 'when',\n",
       " 'you',\n",
       " 'are',\n",
       " 'part',\n",
       " 'of',\n",
       " 'a',\n",
       " 'TEEEEAM']"
      ]
     },
     "execution_count": 11,
     "metadata": {},
     "output_type": "execute_result"
    }
   ],
   "source": [
    "lyrics = \"everything is awesome everything is cool when you are part of a TEEEEAM\"\n",
    "words = lyrics.split()\n",
    "words"
   ]
  },
  {
   "cell_type": "markdown",
   "metadata": {},
   "source": [
    "Use a **list comprehension** to filter the list of words to only include words that have (strictly) more than 4 letters."
   ]
  },
  {
   "cell_type": "code",
   "execution_count": 22,
   "metadata": {},
   "outputs": [
    {
     "ename": "SyntaxError",
     "evalue": "invalid syntax (<ipython-input-22-6601f8200317>, line 1)",
     "output_type": "error",
     "traceback": [
      "\u001b[1;36m  File \u001b[1;32m\"<ipython-input-22-6601f8200317>\"\u001b[1;36m, line \u001b[1;32m1\u001b[0m\n\u001b[1;33m    long_words = [for word in words if len(words)>4]\u001b[0m\n\u001b[1;37m                    ^\u001b[0m\n\u001b[1;31mSyntaxError\u001b[0m\u001b[1;31m:\u001b[0m invalid syntax\n"
     ]
    }
   ],
   "source": [
    "long_words = [for word in words if len(words)>4]\n",
    "long_words"
   ]
  },
  {
   "cell_type": "markdown",
   "metadata": {},
   "source": [
    "Use a **list comprehension** to create a list of initials for each word in the lyric that is _not_ 3 letters or shorter."
   ]
  },
  {
   "cell_type": "code",
   "execution_count": 18,
   "metadata": {},
   "outputs": [
    {
     "ename": "SyntaxError",
     "evalue": "invalid syntax (<ipython-input-18-17ac0848b130>, line 1)",
     "output_type": "error",
     "traceback": [
      "\u001b[1;36m  File \u001b[1;32m\"<ipython-input-18-17ac0848b130>\"\u001b[1;36m, line \u001b[1;32m1\u001b[0m\n\u001b[1;33m    initial = [word[0].upper() for every word in words if len(words) > 3]\u001b[0m\n\u001b[1;37m                                            ^\u001b[0m\n\u001b[1;31mSyntaxError\u001b[0m\u001b[1;31m:\u001b[0m invalid syntax\n"
     ]
    }
   ],
   "source": [
    "initial = [word[0].upper() for every word in words if len(words) > 3]\n",
    "inital"
   ]
  },
  {
   "cell_type": "markdown",
   "metadata": {},
   "source": [
    "Use a **list comprehension** (with nested `for` clauses) to produce a list of _tuples_ representing the different combinations of numbers found on two rolled six-sided dice:\n",
    "```\n",
    "[(1,1), (1,2), (1,3), ...]\n",
    "```\n",
    "Note that there should be 36 different combinations!"
   ]
  },
  {
   "cell_type": "code",
   "execution_count": 20,
   "metadata": {},
   "outputs": [
    {
     "data": {
      "text/plain": [
       "36"
      ]
     },
     "execution_count": 20,
     "metadata": {},
     "output_type": "execute_result"
    }
   ],
   "source": [
    "dice_rolls =  [(d1,d2) for d1 in range(1,7) for d2 in range (1,7)]\n",
    "dice_rolls\n",
    "len(dice_rolls)"
   ]
  },
  {
   "cell_type": "markdown",
   "metadata": {},
   "source": [
    "Use a **list comprehension** to produce a list of tuples representing the rolls on two dice that sum up to 7 OR 11."
   ]
  },
  {
   "cell_type": "code",
   "execution_count": 21,
   "metadata": {},
   "outputs": [
    {
     "ename": "SyntaxError",
     "evalue": "invalid syntax (<ipython-input-21-f501cd64d7c1>, line 1)",
     "output_type": "error",
     "traceback": [
      "\u001b[1;36m  File \u001b[1;32m\"<ipython-input-21-f501cd64d7c1>\"\u001b[1;36m, line \u001b[1;32m1\u001b[0m\n\u001b[1;33m    [(d1,d2) for (d1,d2 in dice_rolls if d1 + d2 == 7 or d1+d2 ==11]\u001b[0m\n\u001b[1;37m                                                                   ^\u001b[0m\n\u001b[1;31mSyntaxError\u001b[0m\u001b[1;31m:\u001b[0m invalid syntax\n"
     ]
    }
   ],
   "source": [
    "[(d1,d2) for (d1,d2 in dice_rolls if d1 + d2 == 7 or d1+d2 ==11]"
   ]
  },
  {
   "cell_type": "code",
   "execution_count": null,
   "metadata": {},
   "outputs": [],
   "source": []
  }
 ],
 "metadata": {
  "kernelspec": {
   "display_name": "Python 3",
   "language": "python",
   "name": "python3"
  },
  "language_info": {
   "codemirror_mode": {
    "name": "ipython",
    "version": 3
   },
   "file_extension": ".py",
   "mimetype": "text/x-python",
   "name": "python",
   "nbconvert_exporter": "python",
   "pygments_lexer": "ipython3",
   "version": "3.7.1"
  },
  "toc": {
   "colors": {
    "hover_highlight": "#DAA520",
    "running_highlight": "#FF0000",
    "selected_highlight": "#FFD700"
   },
   "moveMenuLeft": true,
   "nav_menu": {
    "height": "30px",
    "width": "252px"
   },
   "navigate_menu": true,
   "number_sections": true,
   "sideBar": true,
   "threshold": 4,
   "toc_cell": false,
   "toc_section_display": "block",
   "toc_window_display": false,
   "widenNotebook": false
  }
 },
 "nbformat": 4,
 "nbformat_minor": 2
}
